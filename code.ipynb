{
 "cells": [
  {
   "cell_type": "markdown",
   "metadata": {},
   "source": [
    "# Import packages"
   ]
  },
  {
   "cell_type": "code",
   "execution_count": 1,
   "metadata": {},
   "outputs": [],
   "source": [
    "import numpy as np\n",
    "import pandas as pd\n",
    "import os"
   ]
  },
  {
   "cell_type": "code",
   "execution_count": 27,
   "metadata": {},
   "outputs": [],
   "source": [
    "import random\n",
    "from PIL import Image, ImageDraw\n",
    "import matplotlib.pyplot as plt\n",
    "from collections import Counter\n",
    "from sklearn.model_selection import train_test_split\n",
    "\n",
    "import torch\n",
    "import torchvision\n",
    "from torchvision import transforms as T\n",
    "from torchvision.models.detection.faster_rcnn import FastRCNNPredictor"
   ]
  },
  {
   "cell_type": "markdown",
   "metadata": {},
   "source": [
    "# Load Train boxes"
   ]
  },
  {
   "cell_type": "code",
   "execution_count": 3,
   "metadata": {},
   "outputs": [],
   "source": [
    "train = pd.read_excel(\"F:\\\\AI ML DL Projects\\\\Supports\\\\torchvision\\\\data\\\\output.xlsx\")"
   ]
  },
  {
   "cell_type": "code",
   "execution_count": 4,
   "metadata": {},
   "outputs": [
    {
     "data": {
      "text/html": [
       "<div>\n",
       "<style scoped>\n",
       "    .dataframe tbody tr th:only-of-type {\n",
       "        vertical-align: middle;\n",
       "    }\n",
       "\n",
       "    .dataframe tbody tr th {\n",
       "        vertical-align: top;\n",
       "    }\n",
       "\n",
       "    .dataframe thead th {\n",
       "        text-align: right;\n",
       "    }\n",
       "</style>\n",
       "<table border=\"1\" class=\"dataframe\">\n",
       "  <thead>\n",
       "    <tr style=\"text-align: right;\">\n",
       "      <th></th>\n",
       "      <th>image_id</th>\n",
       "      <th>label</th>\n",
       "      <th>x1</th>\n",
       "      <th>y1</th>\n",
       "      <th>x2</th>\n",
       "      <th>y2</th>\n",
       "    </tr>\n",
       "  </thead>\n",
       "  <tbody>\n",
       "    <tr>\n",
       "      <th>0</th>\n",
       "      <td>DJI_20221113111452_0243</td>\n",
       "      <td>coconut</td>\n",
       "      <td>168</td>\n",
       "      <td>258</td>\n",
       "      <td>197</td>\n",
       "      <td>290</td>\n",
       "    </tr>\n",
       "    <tr>\n",
       "      <th>1</th>\n",
       "      <td>DJI_20221113111452_0243</td>\n",
       "      <td>coconut</td>\n",
       "      <td>231</td>\n",
       "      <td>239</td>\n",
       "      <td>256</td>\n",
       "      <td>265</td>\n",
       "    </tr>\n",
       "    <tr>\n",
       "      <th>2</th>\n",
       "      <td>DJI_20221113111452_0243</td>\n",
       "      <td>coconut</td>\n",
       "      <td>196</td>\n",
       "      <td>233</td>\n",
       "      <td>231</td>\n",
       "      <td>265</td>\n",
       "    </tr>\n",
       "    <tr>\n",
       "      <th>3</th>\n",
       "      <td>DJI_20221113111452_0243</td>\n",
       "      <td>coconut</td>\n",
       "      <td>146</td>\n",
       "      <td>280</td>\n",
       "      <td>173</td>\n",
       "      <td>306</td>\n",
       "    </tr>\n",
       "    <tr>\n",
       "      <th>4</th>\n",
       "      <td>DJI_20221113111452_0243</td>\n",
       "      <td>coconut</td>\n",
       "      <td>118</td>\n",
       "      <td>280</td>\n",
       "      <td>145</td>\n",
       "      <td>308</td>\n",
       "    </tr>\n",
       "  </tbody>\n",
       "</table>\n",
       "</div>"
      ],
      "text/plain": [
       "                  image_id    label   x1   y1   x2   y2\n",
       "0  DJI_20221113111452_0243  coconut  168  258  197  290\n",
       "1  DJI_20221113111452_0243  coconut  231  239  256  265\n",
       "2  DJI_20221113111452_0243  coconut  196  233  231  265\n",
       "3  DJI_20221113111452_0243  coconut  146  280  173  306\n",
       "4  DJI_20221113111452_0243  coconut  118  280  145  308"
      ]
     },
     "execution_count": 4,
     "metadata": {},
     "output_type": "execute_result"
    }
   ],
   "source": [
    "train.head()"
   ]
  },
  {
   "cell_type": "code",
   "execution_count": 5,
   "metadata": {},
   "outputs": [],
   "source": [
    "unique_imgs = train.image_id.unique()"
   ]
  },
  {
   "cell_type": "code",
   "execution_count": 6,
   "metadata": {},
   "outputs": [
    {
     "data": {
      "text/plain": [
       "array(['DJI_20221113111452_0243', 'DJI_20221113111839_0349',\n",
       "       'DJI_20221113112130_0431', 'DJI_20221113112138_0435',\n",
       "       'DJI_20221113112424_0511', 'DJI_20221113112430_0514',\n",
       "       'DJI_20221113112438_0518', 'DJI_20221113112511_0535',\n",
       "       'DJI_20221113112525_0542', 'DJI_20221113112533_0546',\n",
       "       'DJI_20221113112539_0549', 'DJI_20221113112549_0554',\n",
       "       'DJI_20221113113530_0011', 'DJI_20221113113545_0019',\n",
       "       'DJI_20221113113723_0064', 'DJI_20221113113725_0065',\n",
       "       'DJI_20221113113729_0067', 'DJI_20221113113731_0068',\n",
       "       'DJI_20221113113736_0071', 'DJI_20221113113746_0076',\n",
       "       'DJI_20221113114523_0291', 'DJI_20221113114545_0302',\n",
       "       'DJI_20221113114621_0316', 'DJI_20221113114635_0323',\n",
       "       'DJI_20221113114724_0348', 'DJI_20221113114744_0358',\n",
       "       'DJI_20221113114910_0397', 'DJI_20221113114938_0411',\n",
       "       'DJI_20221113115249_0499', 'DJI_20221113115324_0517',\n",
       "       'DJI_20221113115511_0567', 'DJI_20221113120541_0001',\n",
       "       'DJI_20221113120630_0020', 'DJI_20221113120700_0035',\n",
       "       'DJI_20221113120708_0039', 'DJI_20221113120729_0050',\n",
       "       'DJI_20221113120837_0056', 'DJI_20221113120846_0060',\n",
       "       'DJI_20221113120854_0064', 'DJI_20221113121235_0134',\n",
       "       'DJI_20221113121306_0150', 'DJI_20221113121342_0168',\n",
       "       'DJI_20221113121419_0183', 'DJI_20221113121448_0197',\n",
       "       'DJI_20221113121458_0202', 'DJI_20221113121524_0215',\n",
       "       'DJI_20221113121528_0217', 'DJI_20221113121535_0221',\n",
       "       'DJI_20221113121543_0225', 'DJI_20221113121553_0230',\n",
       "       'DJI_20221113121711_0266', 'DJI_20221113122052_0370',\n",
       "       'DJI_20221113122100_0374', 'DJI_20221113122118_0383',\n",
       "       'DJI_20221113122129_0389', 'DJI_20221113122143_0396',\n",
       "       'DJI_20221113122543_0483', 'DJI_20221113122646_0515',\n",
       "       'DJI_20221113123801_0001', 'DJI_20221113123853_0026',\n",
       "       'DJI_20221113123907_0033', 'DJI_20221113123915_0037',\n",
       "       'DJI_20221113123921_0040', 'DJI_20221113124001_0044',\n",
       "       'DJI_20221113124227_0098', 'DJI_20221113124358_0126',\n",
       "       'DJI_20221113124406_0130', 'DJI_20221113124655_0199',\n",
       "       'DJI_20221113124707_0205', 'DJI_20221113124728_0216',\n",
       "       'DJI_20221113124734_0219', 'DJI_20221113124947_0259',\n",
       "       'DJI_20221113124959_0265', 'DJI_20221113125008_0270',\n",
       "       'DJI_20221113125322_0323', 'DJI_20221113125807_0033',\n",
       "       'DJI_20221113125819_0039', 'DJI_20221113125827_0043',\n",
       "       'DJI_20221113125837_0048', 'DJI_20221113125847_0053',\n",
       "       'DJI_20221113125858_0059', 'DJI_20221113125906_0063',\n",
       "       'DJI_20221113125914_0067', 'DJI_20221113130637_0001',\n",
       "       'DJI_20221113130700_0011', 'DJI_20221113130712_0017',\n",
       "       'DJI_20221113130740_0027', 'DJI_20221113130809_0042',\n",
       "       'DJI_20221113130817_0046', 'DJI_20221113130825_0050',\n",
       "       'DJI_20221113130841_0058', 'DJI_20221113130848_0062',\n",
       "       'DJI_20221113130856_0066', 'DJI_20221113130906_0071',\n",
       "       'DJI_20221113130914_0075', 'DJI_20221113130924_0080',\n",
       "       'DJI_20221113130936_0086', 'DJI_20221113131122_0136',\n",
       "       'DJI_20221113131132_0141', 'DJI_20221113134945_0003',\n",
       "       'DJI_20221113134953_0007', 'DJI_20221113135001_0011',\n",
       "       'DJI_20221113135007_0014', 'DJI_20221113135019_0018',\n",
       "       'DJI_20221113135036_0025', 'DJI_20221113135046_0030',\n",
       "       'DJI_20221113135131_0053', 'DJI_20221113135143_0059',\n",
       "       'DJI_20221113135153_0064', 'DJI_20221113135203_0069',\n",
       "       'DJI_20221113135213_0074', 'DJI_20221113135232_0084',\n",
       "       'DJI_20221113135240_0088', 'DJI_20221113135246_0091',\n",
       "       'DJI_20221113135254_0095', 'DJI_20221113135300_0098',\n",
       "       'DJI_20221113135316_0106', 'DJI_20221113135342_0115',\n",
       "       'DJI_20221113135423_0136', 'DJI_20221113135437_0143',\n",
       "       'DJI_20221113135445_0147', 'DJI_20221113135455_0152',\n",
       "       'DJI_20221113135502_0156', 'DJI_20221113135512_0161',\n",
       "       'DJI_20221113135615_0193', 'DJI_20221113135621_0196',\n",
       "       'DJI_20221113135629_0200', 'DJI_20221113135658_0210',\n",
       "       'DJI_20221113142240_0046', 'DJI_20221113142248_0050',\n",
       "       'DJI_20221113142256_0054', 'DJI_20221113142306_0059'], dtype=object)"
      ]
     },
     "execution_count": 6,
     "metadata": {},
     "output_type": "execute_result"
    }
   ],
   "source": [
    "unique_imgs"
   ]
  },
  {
   "cell_type": "code",
   "execution_count": 7,
   "metadata": {},
   "outputs": [],
   "source": [
    "class CustData(torch.utils.data.Dataset):\n",
    "    def __init__(self, df, unique_imgs, indices):\n",
    "        self.df = df\n",
    "        self.unique_imgs = unique_imgs\n",
    "        self.indices = indices\n",
    "    \n",
    "    def __len__(self):\n",
    "        return len(self.indices)\n",
    "    \n",
    "    def __getitem__(self, idx):\n",
    "        image_name = self.unique_imgs[self.indices[idx]]\n",
    "        boxes = self.df[self.df.image_id == image_name].values[:,1:]\n",
    "        img = Image.open(\"F:\\\\AI ML DL Projects\\\\Supports\\\\torchvision\\\\data\\\\images\\\\\" + image_name+'.jpg').convert('RGB')\n",
    "        # print(boxes)\n",
    "        mapping = {'coconut': 1, 'palm': 0}\n",
    "        labels = [mapping[row[0]] for row in boxes]\n",
    "        # print(labels)\n",
    "        \n",
    "        box = boxes[:,1:].astype(\"float\")\n",
    "        target = {}\n",
    "        target['boxes'] = torch.tensor(box)\n",
    "        target['label'] = torch.tensor(labels)\n",
    "        \n",
    "        return T.ToTensor()(img), target\n",
    "        "
   ]
  },
  {
   "cell_type": "code",
   "execution_count": 8,
   "metadata": {},
   "outputs": [],
   "source": [
    "train_inds, val_inds = train_test_split(range(unique_imgs.shape[0]), test_size=0.1)"
   ]
  },
  {
   "cell_type": "code",
   "execution_count": 9,
   "metadata": {},
   "outputs": [],
   "source": [
    "def custom_collate(data):\n",
    "    return data"
   ]
  },
  {
   "cell_type": "markdown",
   "metadata": {},
   "source": [
    "# Split dataset"
   ]
  },
  {
   "cell_type": "code",
   "execution_count": 10,
   "metadata": {},
   "outputs": [],
   "source": [
    "train_d1 = torch.utils.data.DataLoader(CustData(train, unique_imgs, train_inds), \n",
    "                                  batch_size = 16,\n",
    "                                  shuffle = True,\n",
    "                                  collate_fn = custom_collate,\n",
    "                                  pin_memory = True if torch.cuda.is_available else False)\n",
    "\n",
    "val_d1 = torch.utils.data.DataLoader(CustData(train, unique_imgs, val_inds), \n",
    "                                  batch_size = 8,\n",
    "                                  shuffle = True,\n",
    "                                  collate_fn = custom_collate,\n",
    "                                  pin_memory = True if torch.cuda.is_available else False)"
   ]
  },
  {
   "cell_type": "code",
   "execution_count": 11,
   "metadata": {},
   "outputs": [
    {
     "name": "stderr",
     "output_type": "stream",
     "text": [
      "c:\\Users\\viran\\anaconda3\\Lib\\site-packages\\torchvision\\models\\_utils.py:208: UserWarning: The parameter 'pretrained' is deprecated since 0.13 and may be removed in the future, please use 'weights' instead.\n",
      "  warnings.warn(\n",
      "c:\\Users\\viran\\anaconda3\\Lib\\site-packages\\torchvision\\models\\_utils.py:223: UserWarning: Arguments other than a weight enum or `None` for 'weights' are deprecated since 0.13 and may be removed in the future. The current behavior is equivalent to passing `weights=FasterRCNN_ResNet50_FPN_Weights.COCO_V1`. You can also use `weights=FasterRCNN_ResNet50_FPN_Weights.DEFAULT` to get the most up-to-date weights.\n",
      "  warnings.warn(msg)\n"
     ]
    }
   ],
   "source": [
    "model = torchvision.models.detection.fasterrcnn_resnet50_fpn(pretrained = True)\n",
    "num_classes = 3\n",
    "in_features = model.roi_heads.box_predictor.cls_score.in_features\n",
    "model.roi_heads.box_predictor = FastRCNNPredictor(in_features, num_classes)"
   ]
  },
  {
   "cell_type": "code",
   "execution_count": 12,
   "metadata": {},
   "outputs": [],
   "source": [
    "device = torch.device('cuda') if torch.cuda.is_available() else torch.device('cpu')"
   ]
  },
  {
   "cell_type": "code",
   "execution_count": 13,
   "metadata": {},
   "outputs": [
    {
     "data": {
      "text/plain": [
       "device(type='cpu')"
      ]
     },
     "execution_count": 13,
     "metadata": {},
     "output_type": "execute_result"
    }
   ],
   "source": [
    "device"
   ]
  },
  {
   "cell_type": "code",
   "execution_count": 14,
   "metadata": {},
   "outputs": [],
   "source": [
    "optimizer = torch.optim.SGD(model.parameters(), lr=0.001, momentum=0.9, weight_decay=0.0005)\n",
    "num_epochs = 5"
   ]
  },
  {
   "cell_type": "code",
   "execution_count": 15,
   "metadata": {},
   "outputs": [
    {
     "name": "stdout",
     "output_type": "stream",
     "text": [
      "Epoch Loss = {} 19.318553403193015\n",
      "Epoch Loss = {} 10.105393064630565\n",
      "Epoch Loss = {} 8.853731591516825\n",
      "Epoch Loss = {} 7.927123300343808\n",
      "Epoch Loss = {} 6.856249235397409\n"
     ]
    }
   ],
   "source": [
    "model.to(device)\n",
    "\n",
    "for epochs in range(num_epochs):\n",
    "    epoch_loss = 0\n",
    "    for data in train_d1:\n",
    "        imgs = []\n",
    "        targets = []\n",
    "        for d in data:\n",
    "            imgs.append(d[0].to(device))\n",
    "            targ = {}\n",
    "            targ['boxes'] = d[1]['boxes'].to(device)\n",
    "            targ['labels'] = d[1]['label'].to(device)\n",
    "            targets.append(targ)\n",
    "            \n",
    "        lost_dict = model(imgs, targets)\n",
    "        loss = sum(v for v in lost_dict.values())\n",
    "        epoch_loss += loss.cpu().detach().numpy()\n",
    "        optimizer.zero_grad()\n",
    "        loss.backward()\n",
    "        optimizer.step()\n",
    "    print(\"Epoch Loss = {}\", epoch_loss)"
   ]
  },
  {
   "cell_type": "code",
   "execution_count": 16,
   "metadata": {},
   "outputs": [],
   "source": [
    "model.eval()\n",
    "data  = iter(val_d1).__next__()"
   ]
  },
  {
   "cell_type": "code",
   "execution_count": 18,
   "metadata": {},
   "outputs": [],
   "source": [
    "img = data[0][0]\n",
    "boxes = data[0][1]['boxes']\n",
    "boxes = data[0][1]['label']\n"
   ]
  },
  {
   "cell_type": "code",
   "execution_count": 19,
   "metadata": {},
   "outputs": [],
   "source": [
    "output = model([img.to(device)])"
   ]
  },
  {
   "cell_type": "code",
   "execution_count": 20,
   "metadata": {},
   "outputs": [
    {
     "data": {
      "text/plain": [
       "[{'boxes': tensor([[5.5845e+02, 2.0720e+02, 5.9303e+02, 2.4410e+02],\n",
       "          [3.4224e+02, 1.8168e+02, 3.7340e+02, 2.1320e+02],\n",
       "          [1.1869e+02, 3.1181e+02, 1.5071e+02, 3.4650e+02],\n",
       "          [5.3498e+02, 4.2177e+02, 5.6596e+02, 4.5824e+02],\n",
       "          [2.6772e+02, 4.5223e+02, 2.9837e+02, 4.8359e+02],\n",
       "          [1.4297e+02, 4.8944e+02, 1.7675e+02, 5.2777e+02],\n",
       "          [3.8106e+02, 4.6673e+02, 4.1183e+02, 4.9588e+02],\n",
       "          [2.1630e+02, 1.8652e+02, 2.4579e+02, 2.1936e+02],\n",
       "          [2.4938e+02, 1.6394e+02, 2.7949e+02, 1.9431e+02],\n",
       "          [5.5540e+02, 2.4447e+02, 5.8587e+02, 2.7728e+02],\n",
       "          [6.8482e+02, 3.5045e+01, 7.2540e+02, 7.9228e+01],\n",
       "          [5.1487e+01, 2.5552e+02, 8.4661e+01, 2.8824e+02],\n",
       "          [4.5623e+02, 2.0040e+02, 4.8690e+02, 2.3456e+02],\n",
       "          [5.9028e+02, 2.4654e+02, 6.2418e+02, 2.7959e+02],\n",
       "          [2.1787e+02, 2.6163e+02, 2.4605e+02, 2.9230e+02],\n",
       "          [3.6101e+02, 3.9685e+02, 3.9282e+02, 4.2985e+02],\n",
       "          [3.9570e+02, 1.3234e+02, 4.2663e+02, 1.6332e+02],\n",
       "          [2.6969e+02, 3.2284e+02, 3.0799e+02, 3.5304e+02],\n",
       "          [4.2403e+02, 2.2979e+02, 4.5372e+02, 2.5799e+02],\n",
       "          [5.0283e+02, 1.4769e+02, 5.3598e+02, 1.8150e+02],\n",
       "          [2.2697e+02, 3.1479e+02, 2.5803e+02, 3.4487e+02],\n",
       "          [4.9094e+02, 2.0607e+02, 5.2351e+02, 2.3751e+02],\n",
       "          [1.5754e+01, 1.8471e+02, 4.9634e+01, 2.1766e+02],\n",
       "          [5.8130e+02, 2.7439e+02, 6.1347e+02, 3.0800e+02],\n",
       "          [1.8587e+02, 3.5991e+02, 2.1473e+02, 3.8998e+02],\n",
       "          [3.2490e+02, 2.1640e+02, 3.5595e+02, 2.4709e+02],\n",
       "          [3.1537e+02, 1.6937e+02, 3.4216e+02, 2.0216e+02],\n",
       "          [1.1075e+02, 2.5158e+02, 1.4535e+02, 2.8180e+02],\n",
       "          [6.3222e+02, 4.1919e+02, 6.6279e+02, 4.5425e+02],\n",
       "          [1.6894e+02, 2.4519e+02, 1.9838e+02, 2.7474e+02],\n",
       "          [2.7023e+02, 1.4248e+02, 2.9982e+02, 1.7167e+02],\n",
       "          [5.2522e+02, 2.3517e+02, 5.5723e+02, 2.6906e+02],\n",
       "          [3.2078e+02, 3.6357e+02, 3.4759e+02, 3.8930e+02],\n",
       "          [9.0998e+01, 3.4022e+02, 1.2393e+02, 3.6883e+02],\n",
       "          [4.8232e+02, 2.3772e+02, 5.1619e+02, 2.6974e+02],\n",
       "          [1.4735e+01, 3.1331e+02, 4.5829e+01, 3.4423e+02],\n",
       "          [6.2052e+02, 0.0000e+00, 6.5185e+02, 2.8748e+01],\n",
       "          [3.3925e+02, 1.3947e+02, 3.7076e+02, 1.6848e+02],\n",
       "          [2.3841e+02, 2.1236e+02, 2.6813e+02, 2.4348e+02],\n",
       "          [6.0511e+02, 3.1502e+02, 6.3617e+02, 3.4371e+02],\n",
       "          [4.3007e+02, 1.3976e+02, 4.5890e+02, 1.6859e+02],\n",
       "          [1.5680e+02, 3.5308e+02, 1.8664e+02, 3.8327e+02],\n",
       "          [2.2957e+02, 3.4351e+02, 2.6317e+02, 3.7577e+02],\n",
       "          [3.5988e+02, 0.0000e+00, 3.9370e+02, 2.5252e+01],\n",
       "          [4.1601e+02, 2.6120e+02, 4.4366e+02, 2.9216e+02],\n",
       "          [1.6682e+02, 2.7353e+02, 1.9704e+02, 3.0359e+02],\n",
       "          [1.9591e+02, 2.4221e+02, 2.2559e+02, 2.7156e+02],\n",
       "          [1.2501e+02, 3.5320e+02, 1.5343e+02, 3.8524e+02],\n",
       "          [4.7995e+02, 3.9953e+02, 5.1163e+02, 4.3253e+02],\n",
       "          [4.9954e+02, 4.5790e+02, 5.3010e+02, 4.8735e+02],\n",
       "          [7.3998e+01, 1.9203e+02, 1.0467e+02, 2.2379e+02],\n",
       "          [2.9555e+02, 2.7199e+02, 3.2355e+02, 2.9997e+02],\n",
       "          [3.2445e+02, 7.7155e+01, 3.5283e+02, 1.0507e+02],\n",
       "          [3.7305e+02, 1.0820e+02, 3.9965e+02, 1.3584e+02],\n",
       "          [1.1360e+02, 5.1756e+02, 1.4517e+02, 5.4487e+02],\n",
       "          [3.2486e+02, 1.1776e+02, 3.5476e+02, 1.4521e+02],\n",
       "          [3.7147e-01, 2.9173e+02, 2.8347e+01, 3.2232e+02],\n",
       "          [5.5008e+02, 2.7732e+02, 5.7987e+02, 3.0580e+02],\n",
       "          [3.1100e+02, 4.4298e+02, 3.4093e+02, 4.7258e+02],\n",
       "          [5.5987e+01, 1.5129e+02, 8.5712e+01, 1.8038e+02],\n",
       "          [6.5473e+02, 7.1647e-01, 6.9938e+02, 2.6591e+01],\n",
       "          [2.8867e+01, 2.3965e+02, 6.0558e+01, 2.6775e+02],\n",
       "          [3.8774e+02, 4.1597e+02, 4.1596e+02, 4.4680e+02],\n",
       "          [4.2997e+00, 1.7682e+02, 5.4780e+01, 2.2281e+02],\n",
       "          [2.5168e+02, 6.7419e+01, 2.7997e+02, 9.7324e+01],\n",
       "          [3.5289e+02, 9.0321e+01, 3.7872e+02, 1.1435e+02],\n",
       "          [4.0693e-01, 1.1953e+02, 2.3034e+01, 1.4522e+02],\n",
       "          [1.0942e+02, 3.0328e+02, 1.5855e+02, 3.5009e+02],\n",
       "          [3.2292e+02, 0.0000e+00, 3.5529e+02, 2.3115e+01],\n",
       "          [2.3827e+02, 1.9920e+02, 2.7530e+02, 2.3380e+02],\n",
       "          [1.2808e+02, 2.8545e+02, 1.5824e+02, 3.1035e+02],\n",
       "          [4.9407e+02, 1.4206e+02, 5.4257e+02, 1.8895e+02],\n",
       "          [3.0045e+02, 4.6351e+02, 3.2727e+02, 4.9094e+02],\n",
       "          [5.3117e+02, 4.0689e+02, 5.6987e+02, 4.7156e+02],\n",
       "          [2.6210e+02, 3.1211e+02, 3.1437e+02, 3.5928e+02],\n",
       "          [9.1427e+00, 2.7446e+02, 3.6523e+01, 3.0095e+02],\n",
       "          [1.9373e+02, 2.7514e+02, 2.2159e+02, 3.0162e+02],\n",
       "          [1.3670e+02, 4.7988e+02, 1.8269e+02, 5.4111e+02],\n",
       "          [7.5957e+02, 3.5740e+01, 7.9396e+02, 6.3636e+01],\n",
       "          [4.3722e+02, 2.5485e+00, 4.6539e+02, 3.1265e+01],\n",
       "          [5.9338e-02, 2.7588e+02, 3.5387e+01, 3.1200e+02],\n",
       "          [3.5079e+02, 3.8958e+02, 4.0379e+02, 4.3853e+02],\n",
       "          [2.3039e-01, 1.4101e+02, 2.8627e+01, 1.7361e+02],\n",
       "          [2.7188e+02, 3.5311e+02, 3.0772e+02, 3.8482e+02],\n",
       "          [3.0614e+02, 2.0787e+02, 3.6226e+02, 2.5432e+02],\n",
       "          [5.4892e+02, 1.8918e+02, 6.0337e+02, 2.4362e+02],\n",
       "          [4.5025e+02, 1.8339e+02, 4.9195e+02, 2.4564e+02],\n",
       "          [5.8428e+02, 2.3038e+02, 6.2720e+02, 3.0679e+02],\n",
       "          [2.6032e+01, 1.1380e+02, 6.1502e+01, 1.4307e+02],\n",
       "          [4.4765e+02, 2.4227e+02, 4.7459e+02, 2.6684e+02],\n",
       "          [6.5186e+02, 5.2334e+00, 6.9389e+02, 3.9351e+01],\n",
       "          [3.9789e+01, 2.4552e+02, 9.2370e+01, 2.9300e+02],\n",
       "          [5.7313e+02, 2.6803e+02, 6.2673e+02, 3.1707e+02],\n",
       "          [4.7700e+02, 2.1087e+02, 5.2322e+02, 2.8316e+02],\n",
       "          [2.2612e+02, 1.9538e+02, 2.7959e+02, 2.4424e+02],\n",
       "          [3.8138e+02, 2.5461e+02, 4.0673e+02, 2.8001e+02],\n",
       "          [2.3898e+02, 2.4223e+02, 2.7493e+02, 2.7307e+02],\n",
       "          [6.7239e+01, 4.4508e+02, 9.4410e+01, 4.7125e+02],\n",
       "          [6.2508e+02, 4.1073e+02, 6.7374e+02, 4.5900e+02],\n",
       "          [6.2632e+02, 2.2771e+02, 6.5848e+02, 2.5434e+02]],\n",
       "         grad_fn=<StackBackward0>),\n",
       "  'labels': tensor([1, 1, 1, 1, 1, 1, 1, 1, 1, 1, 1, 1, 1, 1, 1, 1, 1, 1, 1, 1, 1, 1, 1, 1,\n",
       "          1, 1, 1, 1, 1, 1, 1, 1, 1, 1, 1, 1, 1, 1, 1, 1, 1, 1, 1, 1, 1, 1, 1, 1,\n",
       "          1, 1, 1, 1, 1, 1, 1, 1, 1, 1, 1, 1, 1, 1, 1, 1, 1, 1, 1, 1, 1, 1, 1, 1,\n",
       "          1, 1, 1, 1, 1, 1, 1, 1, 1, 1, 1, 1, 1, 1, 1, 1, 1, 1, 1, 1, 1, 1, 1, 1,\n",
       "          1, 1, 1, 1]),\n",
       "  'scores': tensor([0.9786, 0.9784, 0.9748, 0.9724, 0.9610, 0.9535, 0.9534, 0.9501, 0.9497,\n",
       "          0.9475, 0.9467, 0.9460, 0.9444, 0.9438, 0.9428, 0.9421, 0.9417, 0.9357,\n",
       "          0.9352, 0.9317, 0.9314, 0.9298, 0.9279, 0.9257, 0.9256, 0.9240, 0.9213,\n",
       "          0.9184, 0.9105, 0.9085, 0.9065, 0.9052, 0.9010, 0.8990, 0.8947, 0.8905,\n",
       "          0.8877, 0.8874, 0.8863, 0.8851, 0.8835, 0.8800, 0.8777, 0.8772, 0.8734,\n",
       "          0.8552, 0.8354, 0.8344, 0.8303, 0.8240, 0.8160, 0.7994, 0.7982, 0.7937,\n",
       "          0.7855, 0.7397, 0.7353, 0.7326, 0.7066, 0.6968, 0.6853, 0.6849, 0.6656,\n",
       "          0.6562, 0.6114, 0.5879, 0.5692, 0.5335, 0.5290, 0.5117, 0.4127, 0.4115,\n",
       "          0.4109, 0.3897, 0.3647, 0.3108, 0.3005, 0.2999, 0.2987, 0.2967, 0.2936,\n",
       "          0.2936, 0.2848, 0.2692, 0.2527, 0.2410, 0.2373, 0.2353, 0.2309, 0.2232,\n",
       "          0.2188, 0.2139, 0.2111, 0.2098, 0.1967, 0.1963, 0.1870, 0.1792, 0.1745,\n",
       "          0.1730], grad_fn=<IndexBackward0>)}]"
      ]
     },
     "execution_count": 20,
     "metadata": {},
     "output_type": "execute_result"
    }
   ],
   "source": [
    "output"
   ]
  },
  {
   "cell_type": "code",
   "execution_count": 21,
   "metadata": {},
   "outputs": [],
   "source": [
    "out_box = output[0]['boxes']\n",
    "out_scores = output[0]['scores']\n"
   ]
  },
  {
   "cell_type": "code",
   "execution_count": 31,
   "metadata": {},
   "outputs": [],
   "source": [
    "keep = torchvision.ops.nms(out_box, out_scores, 0.45)"
   ]
  },
  {
   "cell_type": "code",
   "execution_count": 32,
   "metadata": {},
   "outputs": [
    {
     "data": {
      "text/plain": [
       "(torch.Size([100, 4]), torch.Size([90]))"
      ]
     },
     "execution_count": 32,
     "metadata": {},
     "output_type": "execute_result"
    }
   ],
   "source": [
    "out_box.shape, keep.shape"
   ]
  },
  {
   "cell_type": "code",
   "execution_count": 34,
   "metadata": {},
   "outputs": [],
   "source": [
    "im = (img.permute(1,2,0).cpu().detach().numpy() * 255).astype('uint8')"
   ]
  },
  {
   "cell_type": "code",
   "execution_count": 35,
   "metadata": {},
   "outputs": [
    {
     "data": {
      "text/plain": [
       "array([[[156, 140, 114],\n",
       "        [150, 134, 108],\n",
       "        [164, 148, 122],\n",
       "        ...,\n",
       "        [ 40,  47,  40],\n",
       "        [ 38,  45,  38],\n",
       "        [ 42,  49,  42]],\n",
       "\n",
       "       [[157, 141, 115],\n",
       "        [151, 135, 109],\n",
       "        [157, 141, 115],\n",
       "        ...,\n",
       "        [ 58,  66,  55],\n",
       "        [ 49,  57,  46],\n",
       "        [ 46,  54,  43]],\n",
       "\n",
       "       [[143, 127, 101],\n",
       "        [143, 127, 101],\n",
       "        [149, 133, 107],\n",
       "        ...,\n",
       "        [ 64,  71,  55],\n",
       "        [ 58,  65,  49],\n",
       "        [ 59,  66,  50]],\n",
       "\n",
       "       ...,\n",
       "\n",
       "       [[ 73,  77,  54],\n",
       "        [ 77,  82,  59],\n",
       "        [ 68,  73,  50],\n",
       "        ...,\n",
       "        [171, 145, 118],\n",
       "        [184, 158, 131],\n",
       "        [154, 127, 100]],\n",
       "\n",
       "       [[ 76,  78,  57],\n",
       "        [ 77,  80,  59],\n",
       "        [ 70,  75,  52],\n",
       "        ...,\n",
       "        [167, 141, 116],\n",
       "        [160, 136, 110],\n",
       "        [152, 131, 104]],\n",
       "\n",
       "       [[ 76,  78,  57],\n",
       "        [ 76,  79,  58],\n",
       "        [ 70,  75,  52],\n",
       "        ...,\n",
       "        [155, 129, 104],\n",
       "        [153, 129, 103],\n",
       "        [152, 131, 104]]], dtype=uint8)"
      ]
     },
     "execution_count": 35,
     "metadata": {},
     "output_type": "execute_result"
    }
   ],
   "source": [
    "im"
   ]
  },
  {
   "cell_type": "code",
   "execution_count": 36,
   "metadata": {},
   "outputs": [],
   "source": [
    "vsample = Image.fromarray(im)"
   ]
  },
  {
   "cell_type": "code",
   "execution_count": 48,
   "metadata": {},
   "outputs": [
    {
     "ename": "TypeError",
     "evalue": "iteration over a 0-d tensor",
     "output_type": "error",
     "traceback": [
      "\u001b[1;31m---------------------------------------------------------------------------\u001b[0m",
      "\u001b[1;31mTypeError\u001b[0m                                 Traceback (most recent call last)",
      "Cell \u001b[1;32mIn[48], line 3\u001b[0m\n\u001b[0;32m      1\u001b[0m draw \u001b[39m=\u001b[39m ImageDraw\u001b[39m.\u001b[39mDraw(vsample)\n\u001b[0;32m      2\u001b[0m \u001b[39mfor\u001b[39;00m box \u001b[39min\u001b[39;00m boxes:\n\u001b[1;32m----> 3\u001b[0m     draw\u001b[39m.\u001b[39mrectangle(\u001b[39mlist\u001b[39;49m(box), fill\u001b[39m=\u001b[39m\u001b[39mNone\u001b[39;00m, outline\u001b[39m=\u001b[39m\u001b[39m'\u001b[39m\u001b[39mred\u001b[39m\u001b[39m'\u001b[39m)\n",
      "File \u001b[1;32mc:\\Users\\viran\\anaconda3\\Lib\\site-packages\\torch\\_tensor.py:930\u001b[0m, in \u001b[0;36mTensor.__iter__\u001b[1;34m(self)\u001b[0m\n\u001b[0;32m    920\u001b[0m \u001b[39mdef\u001b[39;00m \u001b[39m__iter__\u001b[39m(\u001b[39mself\u001b[39m):\n\u001b[0;32m    921\u001b[0m     \u001b[39m# NB: we use 'imap' and not 'map' here, so that in Python 2 we get a\u001b[39;00m\n\u001b[0;32m    922\u001b[0m     \u001b[39m# generator and don't eagerly perform all the indexes.  This could\u001b[39;00m\n\u001b[1;32m   (...)\u001b[0m\n\u001b[0;32m    927\u001b[0m     \u001b[39m# NB: We have intentionally skipped __torch_function__ dispatch here.\u001b[39;00m\n\u001b[0;32m    928\u001b[0m     \u001b[39m# See gh-54457\u001b[39;00m\n\u001b[0;32m    929\u001b[0m     \u001b[39mif\u001b[39;00m \u001b[39mself\u001b[39m\u001b[39m.\u001b[39mdim() \u001b[39m==\u001b[39m \u001b[39m0\u001b[39m:\n\u001b[1;32m--> 930\u001b[0m         \u001b[39mraise\u001b[39;00m \u001b[39mTypeError\u001b[39;00m(\u001b[39m\"\u001b[39m\u001b[39miteration over a 0-d tensor\u001b[39m\u001b[39m\"\u001b[39m)\n\u001b[0;32m    931\u001b[0m     \u001b[39mif\u001b[39;00m torch\u001b[39m.\u001b[39m_C\u001b[39m.\u001b[39m_get_tracing_state():\n\u001b[0;32m    932\u001b[0m         warnings\u001b[39m.\u001b[39mwarn(\n\u001b[0;32m    933\u001b[0m             \u001b[39m\"\u001b[39m\u001b[39mIterating over a tensor might cause the trace to be incorrect. \u001b[39m\u001b[39m\"\u001b[39m\n\u001b[0;32m    934\u001b[0m             \u001b[39m\"\u001b[39m\u001b[39mPassing a tensor of different shape won\u001b[39m\u001b[39m'\u001b[39m\u001b[39mt change the number of \u001b[39m\u001b[39m\"\u001b[39m\n\u001b[1;32m   (...)\u001b[0m\n\u001b[0;32m    938\u001b[0m             stacklevel\u001b[39m=\u001b[39m\u001b[39m2\u001b[39m,\n\u001b[0;32m    939\u001b[0m         )\n",
      "\u001b[1;31mTypeError\u001b[0m: iteration over a 0-d tensor"
     ]
    }
   ],
   "source": [
    "draw = ImageDraw.Draw(vsample)\n",
    "for box in boxes:\n",
    "    draw.rectangle(list(box), fill=None, outline='red')"
   ]
  }
 ],
 "metadata": {
  "kernelspec": {
   "display_name": "base",
   "language": "python",
   "name": "python3"
  },
  "language_info": {
   "codemirror_mode": {
    "name": "ipython",
    "version": 3
   },
   "file_extension": ".py",
   "mimetype": "text/x-python",
   "name": "python",
   "nbconvert_exporter": "python",
   "pygments_lexer": "ipython3",
   "version": "3.11.4"
  },
  "orig_nbformat": 4
 },
 "nbformat": 4,
 "nbformat_minor": 2
}
