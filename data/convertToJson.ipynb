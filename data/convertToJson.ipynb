{
 "cells": [
  {
   "cell_type": "code",
   "execution_count": 1,
   "metadata": {},
   "outputs": [],
   "source": [
    "import os\n",
    "import json\n",
    "import xmltodict"
   ]
  },
  {
   "cell_type": "code",
   "execution_count": 2,
   "metadata": {},
   "outputs": [],
   "source": [
    "# Specify the folder containing your XML files\n",
    "xml_folder = 'F:\\\\AI ML DL Projects\\\\Supports\\\\Mask-RCNN-TF2\\\\custom_dataset\\\\data\\\\annots'"
   ]
  },
  {
   "cell_type": "code",
   "execution_count": 3,
   "metadata": {},
   "outputs": [],
   "source": [
    "# Initialize an empty list to store all data\n",
    "all_data = []"
   ]
  },
  {
   "cell_type": "code",
   "execution_count": 8,
   "metadata": {},
   "outputs": [
    {
     "name": "stdout",
     "output_type": "stream",
     "text": [
      "JSON file saved as output.json\n"
     ]
    }
   ],
   "source": [
    "# Iterate through XML files in the folder\n",
    "for filename in os.listdir(xml_folder):\n",
    "    if filename.endswith('.xml'):\n",
    "        xml_file = os.path.join(xml_folder, filename)\n",
    "        with open(xml_file, 'r') as xml_data:\n",
    "            # Parse XML to a dictionary\n",
    "            xml_dict = xmltodict.parse(xml_data.read())\n",
    "            \n",
    "            # Extract data for all objects\n",
    "            objects = xml_dict['annotation']['object']\n",
    "            \n",
    "            if isinstance(objects, list):\n",
    "                for obj in objects:\n",
    "                    label = obj['name']\n",
    "                    xmin = int(obj['bndbox']['xmin'])\n",
    "                    ymin = int(obj['bndbox']['ymin'])\n",
    "                    xmax = int(obj['bndbox']['xmax'])\n",
    "                    ymax = int(obj['bndbox']['ymax'])\n",
    "                    \n",
    "                    object_data = {\n",
    "                        'filename': filename,\n",
    "                        'name': label,\n",
    "                        'xmin': xmin,\n",
    "                        'ymin': ymin,\n",
    "                        'xmax': xmax,\n",
    "                        'ymax': ymax\n",
    "                    }\n",
    "                    \n",
    "                    all_data.append(object_data)\n",
    "            else:\n",
    "                # Only one object, not a list\n",
    "                label = objects['name']\n",
    "                xmin = int(objects['bndbox']['xmin'])\n",
    "                ymin = int(objects['bndbox']['ymin'])\n",
    "                xmax = int(objects['bndbox']['xmax'])\n",
    "                ymax = int(objects['bndbox']['ymax'])\n",
    "                \n",
    "                object_data = {\n",
    "                    'filename': filename,\n",
    "                    'name': label,\n",
    "                    'xmin': xmin,\n",
    "                    'ymin': ymin,\n",
    "                    'xmax': xmax,\n",
    "                    'ymax': ymax\n",
    "                }\n",
    "                \n",
    "                all_data.append(object_data)\n",
    "\n",
    "# Save the data as a JSON file\n",
    "json_file = 'output.json'\n",
    "with open(json_file, 'w') as json_output:\n",
    "    json.dump(all_data, json_output)\n",
    "\n",
    "print(f'JSON file saved as {json_file}')"
   ]
  }
 ],
 "metadata": {
  "kernelspec": {
   "display_name": "Python 3",
   "language": "python",
   "name": "python3"
  },
  "language_info": {
   "codemirror_mode": {
    "name": "ipython",
    "version": 3
   },
   "file_extension": ".py",
   "mimetype": "text/x-python",
   "name": "python",
   "nbconvert_exporter": "python",
   "pygments_lexer": "ipython3",
   "version": "3.11.4"
  },
  "orig_nbformat": 4
 },
 "nbformat": 4,
 "nbformat_minor": 2
}
